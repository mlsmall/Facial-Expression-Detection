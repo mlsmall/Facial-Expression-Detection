{
 "cells": [
  {
   "cell_type": "code",
   "execution_count": 1,
   "metadata": {},
   "outputs": [
    {
     "name": "stderr",
     "output_type": "stream",
     "text": [
      "Using TensorFlow backend.\n"
     ]
    }
   ],
   "source": [
    "import tensorflow as tf\n",
    "import fastai\n",
    "import keras\n",
    "from keras.models import Sequential\n",
    "from keras.layers import Conv2D, MaxPooling2D, AveragePooling2D\n",
    "from keras.layers import Dense, Activation, Dropout, Flatten\n",
    "from keras.optimizers import Adam\n",
    "\n",
    "from keras.preprocessing import image\n",
    "from keras.preprocessing.image import ImageDataGenerator\n",
    "\n",
    "import numpy as np\n",
    "import matplotlib.pyplot as plt"
   ]
  },
  {
   "cell_type": "code",
   "execution_count": 5,
   "metadata": {},
   "outputs": [],
   "source": [
    "num_classes = 7 #angry, disgusted, scared, happy, sad, surprised, neutral\n",
    "batch_size = 256\n",
    "epochs = 30"
   ]
  },
  {
   "cell_type": "code",
   "execution_count": 6,
   "metadata": {},
   "outputs": [
    {
     "data": {
      "text/plain": [
       "True"
      ]
     },
     "execution_count": 6,
     "metadata": {},
     "output_type": "execute_result"
    }
   ],
   "source": [
    "import torch\n",
    "torch.cuda.is_available()"
   ]
  },
  {
   "cell_type": "code",
   "execution_count": 7,
   "metadata": {},
   "outputs": [],
   "source": [
    "# open and read the data set\n",
    "with open('Data/FER/fer2013.csv') as f:\n",
    "    content = f.readlines()\n",
    "\n",
    "lines = np.array(content)\n",
    "num_of_images = lines.size # number of images the file has"
   ]
  },
  {
   "cell_type": "code",
   "execution_count": 8,
   "metadata": {},
   "outputs": [
    {
     "data": {
      "text/plain": [
       "35888"
      ]
     },
     "execution_count": 8,
     "metadata": {},
     "output_type": "execute_result"
    }
   ],
   "source": [
    "num_of_images"
   ]
  },
  {
   "cell_type": "code",
   "execution_count": 9,
   "metadata": {},
   "outputs": [],
   "source": [
    "#initialize training and testing set\n",
    "xtrain, ytrain, xtest, ytest = [], [], [], []"
   ]
  },
  {
   "cell_type": "code",
   "execution_count": 10,
   "metadata": {},
   "outputs": [],
   "source": [
    "# the images (num_of_instances) are stored in numbers in the form of bits\n",
    "# now we split the images into train and test sets\n",
    "for i in range(1, num_of_images):\n",
    "    emotion, img, usage = lines[i].split(\",\")\n",
    "    valuelist = img.split(\" \") # convert each imgage set number into a list of values\n",
    "    pixels = np.array(valuelist, 'float32') # convert that list into an array\n",
    "    emotion = keras.utils.to_categorical(emotion, num_classes)\n",
    "    \n",
    "    if 'Training' in usage:\n",
    "        ytrain.append(emotion)\n",
    "        xtrain.append(pixels)\n",
    "        \n",
    "    elif 'PublicTest' in usage:\n",
    "        ytest.append(emotion)\n",
    "        xtest.append(pixels)"
   ]
  },
  {
   "cell_type": "code",
   "execution_count": 11,
   "metadata": {},
   "outputs": [],
   "source": [
    "# data transformation\n",
    "xtrain = np.array(xtrain, 'float32')\n",
    "ytrain = np.array(ytrain, 'float32')\n",
    "xtest = np.array(xtest, 'float32')\n",
    "ytest = np.array(ytest, 'float32')\n",
    "\n",
    "# normalize between 0 and 1\n",
    "xtrain /= 255\n",
    "ytrain /= 255"
   ]
  },
  {
   "cell_type": "code",
   "execution_count": 12,
   "metadata": {},
   "outputs": [
    {
     "data": {
      "text/plain": [
       "(28709, 2304)"
      ]
     },
     "execution_count": 12,
     "metadata": {},
     "output_type": "execute_result"
    }
   ],
   "source": [
    "xtrain.shape"
   ]
  },
  {
   "cell_type": "code",
   "execution_count": 13,
   "metadata": {},
   "outputs": [
    {
     "name": "stdout",
     "output_type": "stream",
     "text": [
      "28709 train samples\n",
      "3589 test samples\n"
     ]
    }
   ],
   "source": [
    "# Reshaping them to feed them into the CNN\n",
    "# The 2D images are 48x48 and 1 channel\n",
    "xtrain = xtrain.reshape(xtrain.shape[0], 48, 48, 1)\n",
    "xtrain = xtrain.astype('float32')\n",
    "xtest = xtest.reshape(xtest.shape[0], 48, 48, 1)\n",
    "xtest = xtest.astype('float32')\n",
    "\n",
    "print(xtrain.shape[0], 'train samples')\n",
    "print(xtest.shape[0], 'test samples')"
   ]
  },
  {
   "cell_type": "code",
   "execution_count": 29,
   "metadata": {},
   "outputs": [],
   "source": [
    "# CNN structure\n",
    "model = Sequential()\n",
    "\n",
    "# 1st convulutional layer\n",
    "model.add(Conv2D(64, (5,5), activation='relu', input_shape=(48,48,1)))\n",
    "model.add(MaxPooling2D(pool_size=(5,5), strides=(2,2)))\n",
    "\n",
    "# 2nd convolutional layer\n",
    "model.add(Conv2D(64, (3,3), activation='relu'))\n",
    "model.add(Conv2D(64, (3,3), activation='relu'))\n",
    "model.add(AveragePooling2D(pool_size=(3,3), strides=(2,2)))\n",
    "\n",
    "# 3rd convolutional layer\n",
    "model.add(Conv2D(64, (3,3), activation='relu'))\n",
    "model.add(Conv2D(64, (3,3), activation='relu'))\n",
    "model.add(AveragePooling2D(pool_size=(3,3), strides=(2,2)))\n",
    "          \n",
    "model.add(Flatten())\n",
    "          \n",
    "# fully connected layers\n",
    "model.add(Dense(1024, activation=\"relu\"))\n",
    "model.add(Dropout(rate=0.2))\n",
    "model.add(Dense(1024, activation=\"relu\"))\n",
    "model.add(Dropout(rate=0.2))\n",
    "\n",
    "model.add(Dense(num_classes, activation='softmax'))"
   ]
  },
  {
   "cell_type": "code",
   "execution_count": 30,
   "metadata": {},
   "outputs": [],
   "source": [
    "# data loading\n",
    "generator = ImageDataGenerator()\n",
    "generator_train = generator.flow(xtrain, ytrain, batch_size=batch_size)"
   ]
  },
  {
   "cell_type": "code",
   "execution_count": 31,
   "metadata": {},
   "outputs": [],
   "source": [
    "# training\n",
    "model.compile(loss='categorical_crossentropy', optimizer=Adam(), metrics=['accuracy'])"
   ]
  },
  {
   "cell_type": "code",
   "execution_count": 32,
   "metadata": {},
   "outputs": [
    {
     "name": "stdout",
     "output_type": "stream",
     "text": [
      "Epoch 1/30\n",
      "256/256 [==============================] - 6s 22ms/step - loss: 0.0071 - acc: 0.2518\n",
      "Epoch 2/30\n",
      "256/256 [==============================] - 5s 19ms/step - loss: 0.0064 - acc: 0.3508\n",
      "Epoch 3/30\n",
      "256/256 [==============================] - 5s 19ms/step - loss: 0.0056 - acc: 0.4424\n",
      "Epoch 4/30\n",
      "256/256 [==============================] - 5s 19ms/step - loss: 0.0052 - acc: 0.4959\n",
      "Epoch 5/30\n",
      "256/256 [==============================] - 5s 19ms/step - loss: 0.0048 - acc: 0.5325\n",
      "Epoch 6/30\n",
      "256/256 [==============================] - 5s 19ms/step - loss: 0.0045 - acc: 0.5585\n",
      "Epoch 7/30\n",
      "256/256 [==============================] - 5s 19ms/step - loss: 0.0043 - acc: 0.5873\n",
      "Epoch 8/30\n",
      "256/256 [==============================] - 5s 19ms/step - loss: 0.0041 - acc: 0.6030\n",
      "Epoch 9/30\n",
      "256/256 [==============================] - 5s 19ms/step - loss: 0.0039 - acc: 0.6257\n",
      "Epoch 10/30\n",
      "256/256 [==============================] - 5s 19ms/step - loss: 0.0037 - acc: 0.6516\n",
      "Epoch 11/30\n",
      "256/256 [==============================] - 5s 19ms/step - loss: 0.0035 - acc: 0.6674\n",
      "Epoch 12/30\n",
      "256/256 [==============================] - 5s 19ms/step - loss: 0.0032 - acc: 0.6913\n",
      "Epoch 13/30\n",
      "256/256 [==============================] - 5s 19ms/step - loss: 0.0030 - acc: 0.7113\n",
      "Epoch 14/30\n",
      "256/256 [==============================] - 5s 19ms/step - loss: 0.0028 - acc: 0.7295\n",
      "Epoch 15/30\n",
      "256/256 [==============================] - 5s 19ms/step - loss: 0.0026 - acc: 0.7544\n",
      "Epoch 16/30\n",
      "256/256 [==============================] - 5s 19ms/step - loss: 0.0024 - acc: 0.7721\n",
      "Epoch 17/30\n",
      "256/256 [==============================] - 5s 19ms/step - loss: 0.0022 - acc: 0.7924\n",
      "Epoch 18/30\n",
      "256/256 [==============================] - 5s 19ms/step - loss: 0.0020 - acc: 0.8113\n",
      "Epoch 19/30\n",
      "256/256 [==============================] - 5s 19ms/step - loss: 0.0018 - acc: 0.8307\n",
      "Epoch 20/30\n",
      "256/256 [==============================] - 5s 19ms/step - loss: 0.0016 - acc: 0.8471\n",
      "Epoch 21/30\n",
      "256/256 [==============================] - 5s 19ms/step - loss: 0.0015 - acc: 0.8638\n",
      "Epoch 22/30\n",
      "256/256 [==============================] - 5s 19ms/step - loss: 0.0014 - acc: 0.8723\n",
      "Epoch 23/30\n",
      "256/256 [==============================] - 5s 19ms/step - loss: 0.0012 - acc: 0.8855\n",
      "Epoch 24/30\n",
      "256/256 [==============================] - 5s 19ms/step - loss: 0.0011 - acc: 0.8944\n",
      "Epoch 25/30\n",
      "256/256 [==============================] - 5s 19ms/step - loss: 0.0010 - acc: 0.9066\n",
      "Epoch 26/30\n",
      "256/256 [==============================] - 5s 19ms/step - loss: 8.6562e-04 - acc: 0.9208\n",
      "Epoch 27/30\n",
      "256/256 [==============================] - 5s 19ms/step - loss: 8.6288e-04 - acc: 0.9198\n",
      "Epoch 28/30\n",
      "256/256 [==============================] - 5s 19ms/step - loss: 8.2064e-04 - acc: 0.9245\n",
      "Epoch 29/30\n",
      "256/256 [==============================] - 5s 19ms/step - loss: 6.9911e-04 - acc: 0.9364\n",
      "Epoch 30/30\n",
      "256/256 [==============================] - 5s 19ms/step - loss: 6.8644e-04 - acc: 0.9376\n"
     ]
    }
   ],
   "source": [
    "fit = False # For the first run fit = True. On subsequent runs set fit = False\n",
    "if fit == True: # train a randonmly selected batch\n",
    "    # This trains the model using the number of epochs and the batch size\n",
    "    model.fit_generator(generator_train, steps_per_epoch=batch_size, epochs=epochs)\n",
    "else:\n",
    "    model.load_weights('trained-model.h5')"
   ]
  },
  {
   "cell_type": "code",
   "execution_count": 33,
   "metadata": {},
   "outputs": [],
   "source": [
    "model.save('trained-model.h5')"
   ]
  },
  {
   "cell_type": "code",
   "execution_count": 34,
   "metadata": {},
   "outputs": [
    {
     "name": "stdout",
     "output_type": "stream",
     "text": [
      "Training loss: 0.0003389973800183249\n",
      "Training accuracy (%): 97.3004981016406\n",
      "Test loss: 9.246350116203608\n",
      "Test accuracy (%): 42.29590415240463\n"
     ]
    }
   ],
   "source": [
    "# Evaluation\n",
    "train_score = model.evaluate(xtrain, ytrain, verbose=0)\n",
    "print('Training loss:', train_score[0])\n",
    "print('Training accuracy (%):', 100*train_score[1])\n",
    "\n",
    "test_score = model.evaluate(xtest, ytest, verbose=0)\n",
    "print('Test loss:', test_score[0])\n",
    "print('Test accuracy (%):', 100*test_score[1])"
   ]
  },
  {
   "cell_type": "code",
   "execution_count": 36,
   "metadata": {},
   "outputs": [],
   "source": [
    "predictions = model.predict(xtest)"
   ]
  },
  {
   "cell_type": "code",
   "execution_count": 37,
   "metadata": {},
   "outputs": [
    {
     "data": {
      "text/plain": [
       "array([[141,  14,  81,  52,  29,  67,  83],\n",
       "       [ 15,  12,   9,   8,   1,   5,   6],\n",
       "       [ 50,   5, 147,  51,  52, 124,  67],\n",
       "       [ 50,   6,  63, 594,  17, 111,  54],\n",
       "       [ 54,   7, 113, 105, 112, 116, 146],\n",
       "       [  8,   0,  53,  25,   9, 307,  13],\n",
       "       [ 38,   3,  83,  92,  53, 133, 205]])"
      ]
     },
     "execution_count": 37,
     "metadata": {},
     "output_type": "execute_result"
    }
   ],
   "source": [
    "# Confusion matrix\n",
    "\n",
    "from sklearn.metrics import classification_report, confusion_matrix\n",
    "\n",
    "pred_list = []\n",
    "actual_list = []\n",
    "\n",
    "for i in predictions:\n",
    "    pred_list.append(np.argmax(i))\n",
    "    \n",
    "for i in ytest:\n",
    "    actual_list.append(np.argmax(i))\n",
    "    \n",
    "confusion_matrix(actual_list, pred_list)"
   ]
  },
  {
   "cell_type": "code",
   "execution_count": 38,
   "metadata": {},
   "outputs": [],
   "source": [
    "# function that draws bar chart for emotion predictions\n",
    "def emotion_analysis(emotions):\n",
    "    classes = ('angry', 'disgusted', 'scared', 'happy', 'sad', 'surprised', 'neutral')\n",
    "    y_pos = np.arange(len(classes))\n",
    "    \n",
    "    plt.bar(y_pos, emotions, align='center', alpha=0.5)\n",
    "    plt.xticks(y_pos, classes)\n",
    "    plt.ylabel('percentage')\n",
    "    plt.title('emotion')\n",
    "    \n",
    "    plt.show()"
   ]
  },
  {
   "cell_type": "code",
   "execution_count": 39,
   "metadata": {
    "scrolled": false
   },
   "outputs": [
    {
     "data": {
      "image/png": "[encoded data removed]",
      "text/plain": [
       "<Figure size 432x288 with 1 Axes>"
      ]
     },
     "metadata": {
      "needs_background": "light"
     },
     "output_type": "display_data"
    },
    {
     "name": "stdout",
     "output_type": "stream",
     "text": [
      "[0. 0. 0. 0. 0. 1. 0.]\n"
     ]
    },
    {
     "data": {
      "image/png": "[encoded data removed]",
      "text/plain": [
       "<Figure size 432x288 with 1 Axes>"
      ]
     },
     "metadata": {
      "needs_background": "light"
     },
     "output_type": "display_data"
    },
    {
     "name": "stdout",
     "output_type": "stream",
     "text": [
      "----------------------------------------------\n"
     ]
    },
    {
     "data": {
      "image/png": "[encoded data removed]",
      "text/plain": [
       "<Figure size 432x288 with 1 Axes>"
      ]
     },
     "metadata": {
      "needs_background": "light"
     },
     "output_type": "display_data"
    },
    {
     "name": "stdout",
     "output_type": "stream",
     "text": [
      "[0. 0. 0. 0. 0. 1. 0.]\n"
     ]
    },
    {
     "data": {
      "image/png": "[encoded data removed]",
      "text/plain": [
       "<Figure size 432x288 with 1 Axes>"
      ]
     },
     "metadata": {
      "needs_background": "light"
     },
     "output_type": "display_data"
    },
    {
     "name": "stdout",
     "output_type": "stream",
     "text": [
      "----------------------------------------------\n"
     ]
    },
    {
     "data": {
      "image/png": "[encoded data removed]",
      "text/plain": [
       "<Figure size 432x288 with 1 Axes>"
      ]
     },
     "metadata": {
      "needs_background": "light"
     },
     "output_type": "display_data"
    },
    {
     "name": "stdout",
     "output_type": "stream",
     "text": [
      "[0. 0. 1. 0. 0. 0. 0.]\n"
     ]
    },
    {
     "data": {
      "image/png": "[encoded data removed]",
      "text/plain": [
       "<Figure size 432x288 with 1 Axes>"
      ]
     },
     "metadata": {
      "needs_background": "light"
     },
     "output_type": "display_data"
    },
    {
     "name": "stdout",
     "output_type": "stream",
     "text": [
      "----------------------------------------------\n"
     ]
    },
    {
     "data": {
      "image/png": "[encoded data removed]",
      "text/plain": [
       "<Figure size 432x288 with 1 Axes>"
      ]
     },
     "metadata": {
      "needs_background": "light"
     },
     "output_type": "display_data"
    },
    {
     "name": "stdout",
     "output_type": "stream",
     "text": [
      "[0. 0. 0. 1. 0. 0. 0.]\n"
     ]
    },
    {
     "data": {
      "image/png": "[encoded data removed]",
      "text/plain": [
       "<Figure size 432x288 with 1 Axes>"
      ]
     },
     "metadata": {
      "needs_background": "light"
     },
     "output_type": "display_data"
    },
    {
     "name": "stdout",
     "output_type": "stream",
     "text": [
      "----------------------------------------------\n"
     ]
    },
    {
     "data": {
      "image/png": "[encoded data removed]",
      "text/plain": [
       "<Figure size 432x288 with 1 Axes>"
      ]
     },
     "metadata": {
      "needs_background": "light"
     },
     "output_type": "display_data"
    },
    {
     "name": "stdout",
     "output_type": "stream",
     "text": [
      "[0. 0. 0. 1. 0. 0. 0.]\n"
     ]
    },
    {
     "data": {
      "image/png": "[encoded data removed]",
      "text/plain": [
       "<Figure size 432x288 with 1 Axes>"
      ]
     },
     "metadata": {
      "needs_background": "light"
     },
     "output_type": "display_data"
    },
    {
     "name": "stdout",
     "output_type": "stream",
     "text": [
      "----------------------------------------------\n"
     ]
    }
   ],
   "source": [
    "# This is a monitor for our test results to know if our test results are good or not\n",
    "monitor_testset_results = True\n",
    "\n",
    "if monitor_testset_results == True:\n",
    "    # make predictions for test set\n",
    "    predictions = model.predict(xtest)\n",
    "\n",
    "    index = 0\n",
    "    for i in predictions:\n",
    "        if index < 5:\n",
    "            testing_img = np.array(xtest[index], 'float32')\n",
    "            testing_img = testing_img.reshape([48, 48]);\n",
    "\n",
    "            plt.gray()\n",
    "            plt.imshow(testing_img)\n",
    "            plt.show()\n",
    "            \n",
    "            print(i)\n",
    "\n",
    "            emotion_analysis(i)\n",
    "            print(\"----------------------------------------------\")\n",
    "        index = index + 1"
   ]
  },
  {
   "cell_type": "code",
   "execution_count": null,
   "metadata": {
    "collapsed": true
   },
   "outputs": [],
   "source": [
    "from keras.models import load_model\n",
    "model = load_model('trained-model.h5')"
   ]
  },
  {
   "cell_type": "markdown",
   "metadata": {},
   "source": [
    "### Checking with an uploaded image"
   ]
  },
  {
   "cell_type": "code",
   "execution_count": 15,
   "metadata": {},
   "outputs": [],
   "source": [
    "# file = 'photo.jpg' # image that is loaded to test\n",
    "# true_image = image.load_img(file)\n",
    "# img = image.load_img(file, grayscale=True, target_size=(48, 48))"
   ]
  },
  {
   "cell_type": "code",
   "execution_count": null,
   "metadata": {},
   "outputs": [],
   "source": [
    "x = image.img_to_array(img)\n",
    "x = np.expand_dims(x, axis=0)\n",
    "x /= 255"
   ]
  },
  {
   "cell_type": "code",
   "execution_count": null,
   "metadata": {},
   "outputs": [],
   "source": [
    "custom = model.predict(x)\n",
    "x = x.reshape([48,48])"
   ]
  },
  {
   "cell_type": "code",
   "execution_count": 16,
   "metadata": {},
   "outputs": [],
   "source": [
    "# plt.gray()\n",
    "# plt.imshow(true_image)\n",
    "# plt.show()"
   ]
  },
  {
   "cell_type": "markdown",
   "metadata": {},
   "source": [
    "## Detecting emotion on webcam"
   ]
  },
  {
   "cell_type": "code",
   "execution_count": 2,
   "metadata": {},
   "outputs": [],
   "source": [
    "# Importing libraries\n",
    "from keras.preprocessing.image import img_to_array\n",
    "import imutils\n",
    "import cv2\n",
    "from keras.models import load_model\n",
    "import numpy as np"
   ]
  },
  {
   "cell_type": "code",
   "execution_count": 3,
   "metadata": {},
   "outputs": [],
   "source": [
    "# directory of where your CV2 data files are stored\n",
    "cascade_file_path = 'C:\\ProgramData\\Anaconda3\\Lib\\site-packages\\cv2\\data\\haarcascade_frontalface_default.xml'\n",
    "emotion_model_path = 'trained-model.h5'"
   ]
  },
  {
   "cell_type": "code",
   "execution_count": 4,
   "metadata": {},
   "outputs": [],
   "source": [
    "# hyper-parameters for bounding boxes shape\n",
    "\n",
    "# CascadeClassifier: 0object detection module from the open CV library\n",
    "face_detection  = cv2.CascadeClassifier(cascade_file_path)\n",
    "emotion_classifier = load_model(emotion_model_path, compile=False)\n",
    "emotions = ['angry', 'disgusted', 'scared', 'happy', 'sad', 'suprised', 'neutral']"
   ]
  },
  {
   "cell_type": "code",
   "execution_count": 7,
   "metadata": {
    "scrolled": true
   },
   "outputs": [
    {
     "ename": "KeyboardInterrupt",
     "evalue": "",
     "output_type": "error",
     "traceback": [
      "\u001b[1;31m---------------------------------------------------------------------------\u001b[0m",
      "\u001b[1;31mKeyboardInterrupt\u001b[0m                         Traceback (most recent call last)",
      "\u001b[1;32m<ipython-input-7-0f914c734c53>\u001b[0m in \u001b[0;36m<module>\u001b[1;34m\u001b[0m\n\u001b[0;32m     25\u001b[0m     \u001b[0mframe\u001b[0m \u001b[1;33m=\u001b[0m \u001b[0mimutils\u001b[0m\u001b[1;33m.\u001b[0m\u001b[0mresize\u001b[0m\u001b[1;33m(\u001b[0m\u001b[0mframe\u001b[0m\u001b[1;33m,\u001b[0m\u001b[0mwidth\u001b[0m\u001b[1;33m=\u001b[0m\u001b[1;36m400\u001b[0m\u001b[1;33m)\u001b[0m\u001b[1;33m\u001b[0m\u001b[1;33m\u001b[0m\u001b[0m\n\u001b[0;32m     26\u001b[0m     \u001b[0mgray\u001b[0m \u001b[1;33m=\u001b[0m \u001b[0mcv2\u001b[0m\u001b[1;33m.\u001b[0m\u001b[0mcvtColor\u001b[0m\u001b[1;33m(\u001b[0m\u001b[0mframe\u001b[0m\u001b[1;33m,\u001b[0m \u001b[0mcv2\u001b[0m\u001b[1;33m.\u001b[0m\u001b[0mCOLOR_BGR2GRAY\u001b[0m\u001b[1;33m)\u001b[0m\u001b[1;33m\u001b[0m\u001b[1;33m\u001b[0m\u001b[0m\n\u001b[1;32m---> 27\u001b[1;33m     \u001b[0mfaces\u001b[0m \u001b[1;33m=\u001b[0m \u001b[0mface_detection\u001b[0m\u001b[1;33m.\u001b[0m\u001b[0mdetectMultiScale\u001b[0m\u001b[1;33m(\u001b[0m\u001b[0mgray\u001b[0m\u001b[1;33m,\u001b[0m\u001b[0mscaleFactor\u001b[0m\u001b[1;33m=\u001b[0m\u001b[1;36m1.1\u001b[0m\u001b[1;33m,\u001b[0m\u001b[0mminNeighbors\u001b[0m\u001b[1;33m=\u001b[0m\u001b[1;36m5\u001b[0m\u001b[1;33m,\u001b[0m\u001b[0mminSize\u001b[0m\u001b[1;33m=\u001b[0m\u001b[1;33m(\u001b[0m\u001b[1;36m30\u001b[0m\u001b[1;33m,\u001b[0m\u001b[1;36m30\u001b[0m\u001b[1;33m)\u001b[0m\u001b[1;33m,\u001b[0m\u001b[0mflags\u001b[0m\u001b[1;33m=\u001b[0m\u001b[0mcv2\u001b[0m\u001b[1;33m.\u001b[0m\u001b[0mCASCADE_SCALE_IMAGE\u001b[0m\u001b[1;33m)\u001b[0m\u001b[1;33m\u001b[0m\u001b[1;33m\u001b[0m\u001b[0m\n\u001b[0m\u001b[0;32m     28\u001b[0m \u001b[1;33m\u001b[0m\u001b[0m\n\u001b[0;32m     29\u001b[0m     \u001b[0mcanvas\u001b[0m \u001b[1;33m=\u001b[0m \u001b[0mnp\u001b[0m\u001b[1;33m.\u001b[0m\u001b[0mzeros\u001b[0m\u001b[1;33m(\u001b[0m\u001b[1;33m(\u001b[0m\u001b[1;36m250\u001b[0m\u001b[1;33m,\u001b[0m \u001b[1;36m300\u001b[0m\u001b[1;33m,\u001b[0m \u001b[1;36m3\u001b[0m\u001b[1;33m)\u001b[0m\u001b[1;33m,\u001b[0m \u001b[0mdtype\u001b[0m\u001b[1;33m=\u001b[0m\u001b[1;34m\"uint8\"\u001b[0m\u001b[1;33m)\u001b[0m\u001b[1;33m\u001b[0m\u001b[1;33m\u001b[0m\u001b[0m\n",
      "\u001b[1;31mKeyboardInterrupt\u001b[0m: "
     ]
    }
   ],
   "source": [
    "from keras.preprocessing.image import img_to_array\n",
    "import imutils # image utilities\n",
    "import cv2 # OpenCV\n",
    "from keras.models import load_model\n",
    "import numpy as np\n",
    "\n",
    "# parameters for loading data and images\n",
    "detection_model_path = 'C:\\ProgramData\\Anaconda3\\Lib\\site-packages\\cv2\\data\\haarcascade_frontalface_default.xml'\n",
    "emotion_model_path = 'trained-model.h5'\n",
    "\n",
    "# hyper-parameters for bounding boxes shape\n",
    "# loading models\n",
    "face_detection = cv2.CascadeClassifier(detection_model_path)\n",
    "emotion_classifier = load_model(emotion_model_path, compile=False)\n",
    "EMOTIONS = [\"angry\" ,\"disgust\",\"scared\", \"happy\", \"sad\", \"surprised\",\n",
    " \"neutral\"]\n",
    "\n",
    "\n",
    "# starting video stream\n",
    "cv2.namedWindow('Facial Expression Detection')  # This will return video from the first webcam on your computer. \n",
    "camera = cv2.VideoCapture(0)\n",
    "\n",
    "# This code initiates an infinite loop (to be broken later by a break statement), \n",
    "# where we have ret and frame being defined as the camera.read().\n",
    "while True:\n",
    "    frame = camera.read()[1] # frame is each frame that is returned\n",
    "    frame = imutils.resize(frame,width=400) # Resizing the frame to have a width of 450 pixels.\n",
    "    gray = cv2.cvtColor(frame, cv2.COLOR_BGR2GRAY) # We define a new variable, gray, as the frame, converted to gray.\n",
    "    faces = face_detection.detectMultiScale(gray,scaleFactor=1.1,minNeighbors=5,minSize=(30,30),\n",
    "                                            flags=cv2.CASCADE_SCALE_IMAGE)\n",
    "    \n",
    "    canvas = np.zeros((250, 300, 3), dtype=\"uint8\")\n",
    "    frameClone = frame.copy()\n",
    "    if len(faces) > 0:\n",
    "        faces = sorted(faces, reverse=True, key=lambda x: (x[2] - x[0]) * (x[3] - x[1]))[0]\n",
    "        (fX, fY, fW, fH) = faces\n",
    "        # Extract the ROI of the face from the grayscale image, resize it to a fixed 48x48 pixels, and then prepare\n",
    "        # the ROI for classification via the CNN\n",
    "        roi = gray[fY:fY + fH, fX:fX + fW] # region of images\n",
    "        roi = cv2.resize(roi, (48, 48))\n",
    "        roi = roi.astype(\"float\") / 255.0\n",
    "        roi = img_to_array(roi)\n",
    "        roi = np.expand_dims(roi, axis=0)\n",
    "        \n",
    "        \n",
    "        preds = emotion_classifier.predict(roi)[0]\n",
    "        emotion_probability = np.max(preds)\n",
    "        label = EMOTIONS[preds.argmax()]\n",
    "\n",
    " \n",
    "    for (i, (emotion, prob)) in enumerate(zip(EMOTIONS, preds)):\n",
    "                # construct the label text\n",
    "                text = \"{}: {:.2f}%\".format(emotion, prob * 100)\n",
    "                w = int(prob * 300)\n",
    "                cv2.rectangle(canvas, (7, (i * 35) + 5),\n",
    "                (w, (i * 35) + 35), (0, 0, 255), -1)\n",
    "                cv2.putText(canvas, text, (10, (i * 35) + 23),\n",
    "                cv2.FONT_HERSHEY_SIMPLEX, 0.45,\n",
    "                (255, 255, 255), 2)\n",
    "                cv2.putText(frameClone, label, (fX, fY - 10),\n",
    "                cv2.FONT_HERSHEY_SIMPLEX, 0.45, (0, 0, 255), 2)\n",
    "                cv2.rectangle(frameClone, (fX, fY), (fX + fW, fY + fH),\n",
    "                              (0, 0, 255), 2)\n",
    "    # imshow displays an image in the specified window\n",
    "    cv2.imshow('Facial Expression Detection', frameClone)\n",
    "    cv2.imshow(\"Emotion\", canvas)\n",
    "    \n",
    "    if cv2.waitKey(1) & 0xFF == ord('q'):\n",
    "        break\n",
    "    # if we get a key, and that key is a q, we will exit the while loop with a break, which then runs:   \n",
    "camera.release()\n",
    "cv2.destroyAllWindows()\n"
   ]
  }
 ],
 "metadata": {
  "kernelspec": {
   "display_name": "Python 3",
   "language": "python",
   "name": "python3"
  },
  "language_info": {
   "codemirror_mode": {
    "name": "ipython",
    "version": 3
   },
   "file_extension": ".py",
   "mimetype": "text/x-python",
   "name": "python",
   "nbconvert_exporter": "python",
   "pygments_lexer": "ipython3",
   "version": "3.7.4"
  }
 },
 "nbformat": 4,
 "nbformat_minor": 2
}
